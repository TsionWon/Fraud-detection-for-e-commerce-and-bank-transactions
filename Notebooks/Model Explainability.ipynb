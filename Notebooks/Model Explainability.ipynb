{
 "cells": [
  {
   "cell_type": "code",
   "execution_count": null,
   "id": "968afc9d-e762-4672-b18e-b47b8b06b622",
   "metadata": {
    "tags": []
   },
   "outputs": [],
   "source": [
    "# Data Manipulation Libraries\n",
    "import pandas as pd\n",
    "import numpy as np\n",
    "\n",
    "#ML libraries\n",
    "from sklearn.model_selection import train_test_split\n",
    "from sklearn.preprocessing import StandardScaler, OneHotEncoder\n",
    "from sklearn.compose import ColumnTransformer\n",
    "from sklearn.pipeline import Pipeline\n",
    "from sklearn.ensemble import RandomForestClassifier\n",
    "\n",
    "#model explanability libraries\n",
    "import shap\n",
    "import lime\n",
    "import lime.lime_tabular"
   ]
  },
  {
   "cell_type": "code",
   "execution_count": null,
   "id": "91516c93-7939-41f4-94df-fdc0f3551c50",
   "metadata": {},
   "outputs": [],
   "source": [
    "# Load the dataset\n",
    "Creditcard_data = pd.read_csv('C:\\\\Users\\\\Tsi\\\\Desktop\\\\10academy\\\\Week8\\\\data\\\\creditcard.csv',low_memory=False)\n",
    "fraud_data = pd.read_csv('C:\\\\Users\\\\Tsi\\\\Desktop\\\\10academy\\\\Week8\\\\data\\\\Fraud_Data.csv',low_memory=False)\n",
    "IpAddress_data = pd.read_csv('C:\\\\Users\\\\Tsi\\\\Desktop\\\\10academy\\\\Week8\\\\data\\\\IpAddress_to_Country.csv',low_memory=False)"
   ]
  },
  {
   "cell_type": "code",
   "execution_count": null,
   "id": "22fa0e87-98b3-4532-a88a-f2e926c9baaf",
   "metadata": {},
   "outputs": [],
   "source": [
    "# Convert datetime strings to datetime objects\n",
    "fraud_data['signup_time'] = pd.to_datetime(fraud_data['signup_time'])\n",
    "fraud_data['purchase_time'] = pd.to_datetime(fraud_data['purchase_time'])\n",
    "\n",
    "# Extract useful datetime components\n",
    "fraud_data['signup_hour'] = fraud_data['signup_time'].dt.hour\n",
    "fraud_data['signup_day'] = fraud_data['signup_time'].dt.dayofweek\n",
    "fraud_data['purchase_hour'] = fraud_data['purchase_time'].dt.hour\n",
    "fraud_data['purchase_day'] = fraud_data['purchase_time'].dt.dayofweek\n",
    "\n",
    "# Drop the original datetime columns\n",
    "fraud_data = fraud_data.drop(columns=['signup_time', 'purchase_time',])"
   ]
  },
  {
   "cell_type": "code",
   "execution_count": null,
   "id": "f078bd98-b97a-4328-8daf-329a0ab2d609",
   "metadata": {},
   "outputs": [],
   "source": [
    "# For fraud_data\n",
    "fraud_X = fraud_data.drop(columns=['class'])\n",
    "fraud_y = fraud_data['class']\n",
    "\n",
    "# Split fraud_data\n",
    "fraud_X_train, fraud_X_test, fraud_y_train, fraud_y_test = train_test_split(fraud_X, fraud_y, test_size=0.3, random_state=42)"
   ]
  },
  {
   "cell_type": "code",
   "execution_count": null,
   "id": "4cecd44a-52fe-44d0-8e5e-fc7ea79ebaa2",
   "metadata": {},
   "outputs": [],
   "source": [
    "# Define preprocessing for numerical and categorical features\n",
    "numeric_features = ['purchase_value', 'age']  # Example numeric features\n",
    "categorical_features = ['source', 'browser', 'sex', 'signup_hour', 'signup_day', 'purchase_hour', 'purchase_day']\n",
    "\n",
    "preprocessor = ColumnTransformer(\n",
    "    transformers=[\n",
    "        ('num', StandardScaler(), numeric_features),\n",
    "        ('cat', OneHotEncoder(), categorical_features)\n",
    "    ])"
   ]
  },
  {
   "cell_type": "code",
   "execution_count": null,
   "id": "9358461b-7077-41ca-80dd-166848d4a18b",
   "metadata": {},
   "outputs": [],
   "source": [
    "# Use the best model (Random Forest in this case) and pipeline for fraud data\n",
    "rf_pipeline_fraud = Pipeline(steps=[('preprocessor', preprocessor), ('classifier', RandomForestClassifier())])\n",
    "rf_pipeline_fraud.fit(fraud_X_train, fraud_y_train)"
   ]
  },
  {
   "cell_type": "code",
   "execution_count": null,
   "id": "cbc5049d-3c16-4cad-8ce7-fc437f4bc119",
   "metadata": {},
   "outputs": [],
   "source": [
    "import shap\n",
    "import numpy as np\n",
    "import pandas as pd\n",
    "from scipy.sparse import csr_matrix\n",
    "\n",
    "# Preprocess the test data\n",
    "fraud_X_test_preprocessed = rf_pipeline_fraud.named_steps['preprocessor'].transform(fraud_X_test)\n",
    "\n",
    "# Check if the preprocessed data is a sparse matrix and convert it to a dense format\n",
    "if isinstance(fraud_X_test_preprocessed, csr_matrix):\n",
    "    fraud_X_test_preprocessed = fraud_X_test_preprocessed.toarray()\n",
    "\n",
    "# Convert to a DataFrame for checking data types\n",
    "fraud_X_test_preprocessed_df = pd.DataFrame(fraud_X_test_preprocessed)\n",
    "print(fraud_X_test_preprocessed_df.dtypes)\n",
    "\n",
    "# Ensure all data is of type float64\n",
    "fraud_X_test_preprocessed = fraud_X_test_preprocessed_df.values.astype(np.float64)\n",
    "\n",
    "# SHAP explainability\n",
    "explainer_fraud = shap.Explainer(rf_pipeline_fraud.named_steps['classifier'])\n",
    "\n",
    "# Generate SHAP values\n",
    "shap_values_fraud = explainer_fraud(fraud_X_test_preprocessed)\n",
    "\n",
    "# SHAP plots\n",
    "# Summary plot\n",
    "shap.summary_plot(shap_values_fraud, fraud_X_test_preprocessed, feature_names=fraud_X.columns)\n",
    "\n",
    "# Dependence plot for 'purchase_value'\n",
    "shap.dependence_plot(\"purchase_value\", shap_values_fraud, fraud_X_test_preprocessed, feature_names=fraud_X.columns)\n",
    "\n",
    "# Force plot for the first instance in the test set\n",
    "shap.force_plot(explainer_fraud.expected_value, shap_values_fraud[0, :], fraud_X_test.iloc[0, :], feature_names=fraud_X.columns)"
   ]
  },
  {
   "cell_type": "code",
   "execution_count": null,
   "id": "2deb554e-d19e-4a73-86ad-3316b3dcb71f",
   "metadata": {},
   "outputs": [],
   "source": [
    "# LIME explainability\n",
    "explainer = lime.lime_tabular.LimeTabularExplainer(\n",
    "    training_data=rf_pipeline_fraud.named_steps['preprocessor'].transform(fraud_X_train),\n",
    "    feature_names=fraud_X.columns,\n",
    "    class_names=['Not Fraud', 'Fraud'],\n",
    "    mode='classification'\n",
    ")\n",
    "\n",
    "# Explain a single prediction with LIME\n",
    "i = 0  # Index of the instance to explain\n",
    "exp = explainer.explain_instance(\n",
    "    data_row=rf_pipeline_fraud.named_steps['preprocessor'].transform(fraud_X_test)[i],\n",
    "    predict_fn=rf_pipeline_fraud.named_steps['classifier'].predict_proba\n",
    ")\n",
    "\n",
    "# Display LIME explanation\n",
    "exp.show_in_notebook(show_table=True, show_all=False)\n",
    "exp.as_pyplot_figure()"
   ]
  }
 ],
 "metadata": {
  "kernelspec": {
   "display_name": "Python 3 (ipykernel)",
   "language": "python",
   "name": "python3"
  },
  "language_info": {
   "codemirror_mode": {
    "name": "ipython",
    "version": 3
   },
   "file_extension": ".py",
   "mimetype": "text/x-python",
   "name": "python",
   "nbconvert_exporter": "python",
   "pygments_lexer": "ipython3",
   "version": "3.11.5"
  }
 },
 "nbformat": 4,
 "nbformat_minor": 5
}
