{
 "cells": [
  {
   "cell_type": "markdown",
   "id": "9736df79-8f12-40eb-af4f-601b26198dd3",
   "metadata": {},
   "source": [
    "<h1>Model Building and Training</h1>"
   ]
  },
  {
   "cell_type": "code",
   "execution_count": 2,
   "id": "3bbdba6d-3397-4190-bbcb-2930d282dc4f",
   "metadata": {
    "tags": []
   },
   "outputs": [],
   "source": [
    "# Data Manipulation Libraries\n",
    "import pandas as pd \n",
    "import numpy as np\n",
    "from scipy import stats\n",
    "\n",
    "# Plotting Libraries\n",
    "import matplotlib.pyplot as plt\n",
    "\n",
    "#ML libraries\n",
    "from sklearn.model_selection import train_test_split\n",
    "from sklearn.preprocessing import StandardScaler, OneHotEncoder\n",
    "from sklearn.compose import ColumnTransformer\n",
    "from sklearn.linear_model import LogisticRegression\n",
    "from sklearn.tree import DecisionTreeClassifier\n",
    "from sklearn.ensemble import RandomForestClassifier,GradientBoostingClassifier\n",
    "from sklearn.neural_network import MLPClassifier\n",
    "from sklearn.metrics import accuracy_score, precision_score, recall_score, f1_score\n",
    "from sklearn.pipeline import Pipeline\n",
    "from tabulate import tabulate\n",
    "import mlflow\n",
    "import mlflow.sklearn\n",
    "from mlflow.tracking import MlflowClient"
   ]
  },
  {
   "cell_type": "code",
   "execution_count": 3,
   "id": "d2ea96c8-5f24-4143-95bd-2186b271f2be",
   "metadata": {
    "tags": []
   },
   "outputs": [],
   "source": [
    "# Load the dataset\n",
    "Creditcard_data = pd.read_csv('C:\\\\Users\\\\Tsi\\\\Desktop\\\\10academy\\\\Week8\\\\data\\\\creditcard.csv',low_memory=False)\n",
    "fraud_data = pd.read_csv('C:\\\\Users\\\\Tsi\\\\Desktop\\\\10academy\\\\Week8\\\\data\\\\Fraud_Data.csv',low_memory=False)\n",
    "IpAddress_data = pd.read_csv('C:\\\\Users\\\\Tsi\\\\Desktop\\\\10academy\\\\Week8\\\\data\\\\IpAddress_to_Country.csv',low_memory=False)"
   ]
  },
  {
   "cell_type": "markdown",
   "id": "27a620c6-8754-4f2f-b3f0-79367176c159",
   "metadata": {},
   "source": [
    "<h1>Overview the data</h1>"
   ]
  },
  {
   "cell_type": "markdown",
   "id": "a88dfd19-cf68-4aa4-abad-38d91367ac36",
   "metadata": {
    "tags": []
   },
   "source": [
    "<h2>Fraud_data</h2>"
   ]
  },
  {
   "cell_type": "code",
   "execution_count": 4,
   "id": "5e935276-6c96-486b-b72b-ece5ffeb73fb",
   "metadata": {
    "tags": []
   },
   "outputs": [
    {
     "name": "stdout",
     "output_type": "stream",
     "text": [
      "First few rows of the Fraud_data dataset:\n",
      "   user_id          signup_time        purchase_time  purchase_value  \\\n",
      "0    22058  2015-02-24 22:55:49  2015-04-18 02:47:11              34   \n",
      "1   333320  2015-06-07 20:39:50  2015-06-08 01:38:54              16   \n",
      "2     1359  2015-01-01 18:52:44  2015-01-01 18:52:45              15   \n",
      "3   150084  2015-04-28 21:13:25  2015-05-04 13:54:50              44   \n",
      "4   221365  2015-07-21 07:09:52  2015-09-09 18:40:53              39   \n",
      "\n",
      "       device_id source browser sex  age    ip_address  class  \n",
      "0  QVPSPJUOCKZAR    SEO  Chrome   M   39  7.327584e+08      0  \n",
      "1  EOGFQPIZPYXFZ    Ads  Chrome   F   53  3.503114e+08      0  \n",
      "2  YSSKYOSJHPPLJ    SEO   Opera   M   53  2.621474e+09      1  \n",
      "3  ATGTXKYKUDUQN    SEO  Safari   M   41  3.840542e+09      0  \n",
      "4  NAUITBZFJKHWW    Ads  Safari   M   45  4.155831e+08      0  \n"
     ]
    }
   ],
   "source": [
    "# Display the first few rows of the dataset\n",
    "print(\"First few rows of the Fraud_data dataset:\")\n",
    "print(fraud_data.head())"
   ]
  },
  {
   "cell_type": "code",
   "execution_count": 5,
   "id": "64dc32ba-3a10-43b3-b639-3947418605bf",
   "metadata": {
    "tags": []
   },
   "outputs": [
    {
     "name": "stdout",
     "output_type": "stream",
     "text": [
      "Columns in fraud_data: Index(['user_id', 'signup_time', 'purchase_time', 'purchase_value',\n",
      "       'device_id', 'source', 'browser', 'sex', 'age', 'ip_address', 'class'],\n",
      "      dtype='object')\n"
     ]
    }
   ],
   "source": [
    "# Inspect columns of fraud_data\n",
    "print(\"Columns in fraud_data:\", fraud_data.columns)"
   ]
  },
  {
   "cell_type": "markdown",
   "id": "387923dc-ada0-4006-9c6b-bdb313e46fb4",
   "metadata": {},
   "source": [
    "<h2>Creditcard_data</h2>"
   ]
  },
  {
   "cell_type": "code",
   "execution_count": 6,
   "id": "c5d1dd30-cb4f-41a7-9f21-e951990f7136",
   "metadata": {
    "tags": []
   },
   "outputs": [
    {
     "name": "stdout",
     "output_type": "stream",
     "text": [
      "First few rows of the creditcard_data dataset:\n",
      "   Time        V1        V2        V3        V4        V5        V6        V7  \\\n",
      "0   0.0 -1.359807 -0.072781  2.536347  1.378155 -0.338321  0.462388  0.239599   \n",
      "1   0.0  1.191857  0.266151  0.166480  0.448154  0.060018 -0.082361 -0.078803   \n",
      "2   1.0 -1.358354 -1.340163  1.773209  0.379780 -0.503198  1.800499  0.791461   \n",
      "3   1.0 -0.966272 -0.185226  1.792993 -0.863291 -0.010309  1.247203  0.237609   \n",
      "4   2.0 -1.158233  0.877737  1.548718  0.403034 -0.407193  0.095921  0.592941   \n",
      "\n",
      "         V8        V9  ...       V21       V22       V23       V24       V25  \\\n",
      "0  0.098698  0.363787  ... -0.018307  0.277838 -0.110474  0.066928  0.128539   \n",
      "1  0.085102 -0.255425  ... -0.225775 -0.638672  0.101288 -0.339846  0.167170   \n",
      "2  0.247676 -1.514654  ...  0.247998  0.771679  0.909412 -0.689281 -0.327642   \n",
      "3  0.377436 -1.387024  ... -0.108300  0.005274 -0.190321 -1.175575  0.647376   \n",
      "4 -0.270533  0.817739  ... -0.009431  0.798278 -0.137458  0.141267 -0.206010   \n",
      "\n",
      "        V26       V27       V28  Amount  Class  \n",
      "0 -0.189115  0.133558 -0.021053  149.62      0  \n",
      "1  0.125895 -0.008983  0.014724    2.69      0  \n",
      "2 -0.139097 -0.055353 -0.059752  378.66      0  \n",
      "3 -0.221929  0.062723  0.061458  123.50      0  \n",
      "4  0.502292  0.219422  0.215153   69.99      0  \n",
      "\n",
      "[5 rows x 31 columns]\n"
     ]
    }
   ],
   "source": [
    "# Display the first few rows of the dataset\n",
    "print(\"First few rows of the creditcard_data dataset:\")\n",
    "print(Creditcard_data.head())"
   ]
  },
  {
   "cell_type": "code",
   "execution_count": 7,
   "id": "6889c29c-2517-4d54-bec6-f081858ee34f",
   "metadata": {
    "tags": []
   },
   "outputs": [
    {
     "name": "stdout",
     "output_type": "stream",
     "text": [
      "Columns in Creditcard_data: Index(['Time', 'V1', 'V2', 'V3', 'V4', 'V5', 'V6', 'V7', 'V8', 'V9', 'V10',\n",
      "       'V11', 'V12', 'V13', 'V14', 'V15', 'V16', 'V17', 'V18', 'V19', 'V20',\n",
      "       'V21', 'V22', 'V23', 'V24', 'V25', 'V26', 'V27', 'V28', 'Amount',\n",
      "       'Class'],\n",
      "      dtype='object')\n"
     ]
    }
   ],
   "source": [
    "# Inspect columns of creditcard_data\n",
    "print(\"Columns in Creditcard_data:\", Creditcard_data.columns)"
   ]
  },
  {
   "cell_type": "markdown",
   "id": "82c3554e-aded-4cdc-8e43-e243ee248ecb",
   "metadata": {
    "tags": []
   },
   "source": [
    "<h1>Data Preparation:</h1>"
   ]
  },
  {
   "cell_type": "markdown",
   "id": "1f1cffb4-2e7a-45df-b493-2c87e15b1e66",
   "metadata": {},
   "source": [
    "<h2>Handeling missing values</h2>"
   ]
  },
  {
   "cell_type": "code",
   "execution_count": 8,
   "id": "93ac6232-3828-4528-a1a8-7def97c24b0a",
   "metadata": {
    "tags": []
   },
   "outputs": [
    {
     "name": "stdout",
     "output_type": "stream",
     "text": [
      "\n",
      "Missing Values in Fraud Data:\n",
      "user_id           0\n",
      "signup_time       0\n",
      "purchase_time     0\n",
      "purchase_value    0\n",
      "device_id         0\n",
      "source            0\n",
      "browser           0\n",
      "sex               0\n",
      "age               0\n",
      "ip_address        0\n",
      "class             0\n",
      "dtype: int64\n"
     ]
    }
   ],
   "source": [
    "# Check for missing values in Fraud_data\n",
    "print(\"\\nMissing Values in Fraud Data:\")\n",
    "print(fraud_data.isnull().sum())"
   ]
  },
  {
   "cell_type": "code",
   "execution_count": 9,
   "id": "2b9ff844-7c97-405a-9ebf-6eb5a094a393",
   "metadata": {
    "tags": []
   },
   "outputs": [
    {
     "name": "stdout",
     "output_type": "stream",
     "text": [
      "\n",
      "Missing Values in creditcard_data:\n",
      "Time      0\n",
      "V1        0\n",
      "V2        0\n",
      "V3        0\n",
      "V4        0\n",
      "V5        0\n",
      "V6        0\n",
      "V7        0\n",
      "V8        0\n",
      "V9        0\n",
      "V10       0\n",
      "V11       0\n",
      "V12       0\n",
      "V13       0\n",
      "V14       0\n",
      "V15       0\n",
      "V16       0\n",
      "V17       0\n",
      "V18       0\n",
      "V19       0\n",
      "V20       0\n",
      "V21       0\n",
      "V22       0\n",
      "V23       0\n",
      "V24       0\n",
      "V25       0\n",
      "V26       0\n",
      "V27       0\n",
      "V28       0\n",
      "Amount    0\n",
      "Class     0\n",
      "dtype: int64\n"
     ]
    }
   ],
   "source": [
    "# Check for missing values in creditcard_data\n",
    "print(\"\\nMissing Values in creditcard_data:\")\n",
    "print(Creditcard_data.isnull().sum())"
   ]
  },
  {
   "cell_type": "markdown",
   "id": "5b1606d5-312f-4927-860e-0fb6365bf2ce",
   "metadata": {},
   "source": [
    "<h2>Checking for outliers</h2>"
   ]
  },
  {
   "cell_type": "code",
   "execution_count": 10,
   "id": "1838ada3-ac8f-4f65-bb86-5c5d674c8643",
   "metadata": {
    "tags": []
   },
   "outputs": [
    {
     "name": "stdout",
     "output_type": "stream",
     "text": [
      "Outliers in column 'user_id': 0\n"
     ]
    },
    {
     "data": {
      "image/png": "[encoded data removed]",
      "text/plain": [
       "<Figure size 800x600 with 1 Axes>"
      ]
     },
     "metadata": {},
     "output_type": "display_data"
    },
    {
     "name": "stdout",
     "output_type": "stream",
     "text": [
      "Outliers in column 'purchase_value': 865\n"
     ]
    },
    {
     "data": {
      "image/png": "[encoded data removed]",
      "text/plain": [
       "<Figure size 800x600 with 1 Axes>"
      ]
     },
     "metadata": {},
     "output_type": "display_data"
    },
    {
     "name": "stdout",
     "output_type": "stream",
     "text": [
      "Outliers in column 'age': 553\n"
     ]
    },
    {
     "data": {
      "image/png": "[encoded data removed]",
      "text/plain": [
       "<Figure size 800x600 with 1 Axes>"
      ]
     },
     "metadata": {},
     "output_type": "display_data"
    },
    {
     "name": "stdout",
     "output_type": "stream",
     "text": [
      "Outliers in column 'ip_address': 0\n"
     ]
    },
    {
     "data": {
      "image/png": "[encoded data removed]",
      "text/plain": [
       "<Figure size 800x600 with 1 Axes>"
      ]
     },
     "metadata": {},
     "output_type": "display_data"
    },
    {
     "name": "stdout",
     "output_type": "stream",
     "text": [
      "Outliers in column 'class': 14151\n"
     ]
    },
    {
     "data": {
      "image/png": "[encoded data removed]",
      "text/plain": [
       "<Figure size 800x600 with 1 Axes>"
      ]
     },
     "metadata": {},
     "output_type": "display_data"
    }
   ],
   "source": [
    "#check for the outliers for fraud and creditcard datasets\n",
    "\n",
    "# Check for outliers in each numerical column\n",
    "for col in fraud_data.select_dtypes(include=['int64', 'float64']).columns:\n",
    "    # Calculate the z-score for each value in the column\n",
    "    z = np.abs(stats.zscore(fraud_data[col]))\n",
    "    \n",
    "    # Identify the outliers (z-score > 3)\n",
    "    outliers = fraud_data[z > 3][col]\n",
    "    print(f\"Outliers in column '{col}': {len(outliers)}\")\n",
    "    \n",
    "    # Plot a boxplot to visualize the outliers\n",
    "    plt.figure(figsize=(8, 6))\n",
    "    fraud_data.boxplot(column=col)\n",
    "    plt.title(f\"Boxplot of '{col}' column\")\n",
    "    plt.show()"
   ]
  },
  {
   "cell_type": "code",
   "execution_count": 11,
   "id": "8bcd3bfb-531c-4f42-a2a5-703d082c08f6",
   "metadata": {
    "tags": []
   },
   "outputs": [
    {
     "name": "stdout",
     "output_type": "stream",
     "text": [
      "<class 'pandas.core.frame.DataFrame'>\n",
      "RangeIndex: 151112 entries, 0 to 151111\n",
      "Data columns (total 11 columns):\n",
      " #   Column          Non-Null Count   Dtype  \n",
      "---  ------          --------------   -----  \n",
      " 0   user_id         151112 non-null  int64  \n",
      " 1   signup_time     151112 non-null  object \n",
      " 2   purchase_time   151112 non-null  object \n",
      " 3   purchase_value  151112 non-null  int64  \n",
      " 4   device_id       151112 non-null  object \n",
      " 5   source          151112 non-null  object \n",
      " 6   browser         151112 non-null  object \n",
      " 7   sex             151112 non-null  object \n",
      " 8   age             151112 non-null  int64  \n",
      " 9   ip_address      151112 non-null  float64\n",
      " 10  class           151112 non-null  int64  \n",
      "dtypes: float64(1), int64(4), object(6)\n",
      "memory usage: 12.7+ MB\n"
     ]
    }
   ],
   "source": [
    "#checkmg datatypes\n",
    "\n",
    "fraud_data.info()"
   ]
  },
  {
   "cell_type": "code",
   "execution_count": 12,
   "id": "3af57467-eb93-4e9a-acd8-b33a4c52b421",
   "metadata": {
    "tags": []
   },
   "outputs": [],
   "source": [
    "# Convert datetime strings to datetime objects\n",
    "fraud_data['signup_time'] = pd.to_datetime(fraud_data['signup_time'])\n",
    "fraud_data['purchase_time'] = pd.to_datetime(fraud_data['purchase_time'])\n",
    "\n",
    "# Extract useful datetime components\n",
    "fraud_data['signup_hour'] = fraud_data['signup_time'].dt.hour\n",
    "fraud_data['signup_day'] = fraud_data['signup_time'].dt.dayofweek\n",
    "fraud_data['purchase_hour'] = fraud_data['purchase_time'].dt.hour\n",
    "fraud_data['purchase_day'] = fraud_data['purchase_time'].dt.dayofweek\n",
    "\n",
    "# Drop the original datetime columns\n",
    "fraud_data = fraud_data.drop(columns=['signup_time', 'purchase_time','device_id'])"
   ]
  },
  {
   "cell_type": "code",
   "execution_count": 13,
   "id": "1bcc5cb5-3593-4455-8f4d-593fd90ac473",
   "metadata": {
    "tags": []
   },
   "outputs": [
    {
     "name": "stdout",
     "output_type": "stream",
     "text": [
      "<class 'pandas.core.frame.DataFrame'>\n",
      "RangeIndex: 151112 entries, 0 to 151111\n",
      "Data columns (total 12 columns):\n",
      " #   Column          Non-Null Count   Dtype  \n",
      "---  ------          --------------   -----  \n",
      " 0   user_id         151112 non-null  int64  \n",
      " 1   purchase_value  151112 non-null  int64  \n",
      " 2   source          151112 non-null  object \n",
      " 3   browser         151112 non-null  object \n",
      " 4   sex             151112 non-null  object \n",
      " 5   age             151112 non-null  int64  \n",
      " 6   ip_address      151112 non-null  float64\n",
      " 7   class           151112 non-null  int64  \n",
      " 8   signup_hour     151112 non-null  int32  \n",
      " 9   signup_day      151112 non-null  int32  \n",
      " 10  purchase_hour   151112 non-null  int32  \n",
      " 11  purchase_day    151112 non-null  int32  \n",
      "dtypes: float64(1), int32(4), int64(4), object(3)\n",
      "memory usage: 11.5+ MB\n"
     ]
    }
   ],
   "source": [
    "#checkmg datatypes\n",
    "\n",
    "fraud_data.info()"
   ]
  },
  {
   "cell_type": "markdown",
   "id": "96e7dbfb-64e6-4e73-9bae-52df5dccf74f",
   "metadata": {},
   "source": [
    "<h2>Encoding</h2>"
   ]
  },
  {
   "cell_type": "code",
   "execution_count": 14,
   "id": "7fd2f73f-9adf-440d-9082-395818c0b823",
   "metadata": {
    "tags": []
   },
   "outputs": [],
   "source": [
    "# Define preprocessing for numerical and categorical features\n",
    "numeric_features = ['purchase_value', 'age']  # Example numeric features\n",
    "categorical_features = ['source', 'browser', 'sex','signup_hour','signup_day', 'purchase_hour', 'purchase_day']\n",
    "\n",
    "preprocessor = ColumnTransformer(\n",
    "    transformers=[\n",
    "        ('num', StandardScaler(), numeric_features),\n",
    "        ('cat', OneHotEncoder(), categorical_features)\n",
    "    ])"
   ]
  },
  {
   "cell_type": "markdown",
   "id": "b762243a-48c1-4a44-81aa-ac477dbd0756",
   "metadata": {},
   "source": [
    "StandardScaler is used to standardize the numerical features in a dataset, making them zero-mean and unit-variance.\n",
    "OneHotEncoder is used to transform categorical features into a numerical format that can be processed by machine learning algorithms."
   ]
  },
  {
   "cell_type": "markdown",
   "id": "79c48911-87c0-47c0-b576-c3b0ef77f3d4",
   "metadata": {
    "tags": []
   },
   "source": [
    "<h2>Separate Features and Target Variables</h2>"
   ]
  },
  {
   "cell_type": "code",
   "execution_count": 15,
   "id": "bd7a8f6b-c456-45ff-aeb4-d4af12140f9c",
   "metadata": {
    "tags": []
   },
   "outputs": [],
   "source": [
    "#Feature and Target Separation [‘Class’(creditcard), ‘class’(Fraud_Data)]\n",
    "\n",
    "# For fraud_data\n",
    "fraud_X = fraud_data.drop(columns=['class'])\n",
    "fraud_y = fraud_data['class']\n",
    "# For creditcard_data\n",
    "creditcard_X = Creditcard_data.drop(columns=['Class'])\n",
    "creditcard_y = Creditcard_data['Class']"
   ]
  },
  {
   "cell_type": "markdown",
   "id": "fb0cd271-3890-4a8b-a4e6-ab656437976c",
   "metadata": {
    "tags": []
   },
   "source": [
    "<h2>Train-Test Split</h2>"
   ]
  },
  {
   "cell_type": "code",
   "execution_count": 16,
   "id": "44132d37-6528-4ae0-ad86-3247ec9d7235",
   "metadata": {
    "tags": []
   },
   "outputs": [],
   "source": [
    "# Split fraud_data\n",
    "fraud_X_train, fraud_X_test, fraud_y_train, fraud_y_test = train_test_split(fraud_X, fraud_y, test_size=0.2, random_state=42)\n",
    "\n",
    "# Split creditcard_data\n",
    "creditcard_X_train, creditcard_X_test, creditcard_y_train, creditcard_y_test = train_test_split(creditcard_X, creditcard_y, test_size=0.2, random_state=42)\n",
    "     "
   ]
  },
  {
   "cell_type": "markdown",
   "id": "dd8cad07-8632-4b9e-b4b7-9ac945042656",
   "metadata": {},
   "source": [
    "<h1>Model selection and training</h1>"
   ]
  },
  {
   "cell_type": "markdown",
   "id": "fd2c6f00-7950-4062-b3ae-e93286aa0007",
   "metadata": {},
   "source": [
    "Logistic Regression"
   ]
  },
  {
   "cell_type": "code",
   "execution_count": 19,
   "id": "36576416-14f2-4118-9ea6-be90f00b0f0e",
   "metadata": {
    "tags": []
   },
   "outputs": [],
   "source": [
    "# Model Selection\n",
    "models = {\n",
    "    'Logistic Regression': LogisticRegression(),\n",
    "    'Decision Tree': DecisionTreeClassifier(),\n",
    "    'Random Forest': RandomForestClassifier(),\n",
    "    'Gradient Boosting': GradientBoostingClassifier(),\n",
    "    'MLP': MLPClassifier()\n",
    "}"
   ]
  },
  {
   "cell_type": "code",
   "execution_count": 20,
   "id": "5320c2b7-b2c6-4afa-8ee1-9dbe6ef40466",
   "metadata": {
    "tags": []
   },
   "outputs": [],
   "source": [
    "# Function to train and evaluate models\n",
    "def train_evaluate_model_fraud(model_name, model, X_train, X_test, y_train, y_test):\n",
    "    # Create a pipeline with preprocessing and model\n",
    "    pipeline = Pipeline(steps=[('preprocessor', preprocessor),\n",
    "                               ('classifier', model)])\n",
    "\n",
    "    # Train the model\n",
    "    pipeline.fit(X_train, y_train)\n",
    "\n",
    "    # Make predictions\n",
    "    y_pred = pipeline.predict(X_test)\n",
    "\n",
    "    # Evaluate the model\n",
    "    accuracy = accuracy_score(y_test, y_pred)\n",
    "    precision = precision_score(y_test, y_pred)\n",
    "    recall = recall_score(y_test, y_pred)\n",
    "    f1 = f1_score(y_test, y_pred)\n",
    "\n",
    "    # Log metrics with MLflow\n",
    "    with mlflow.start_run(run_name=model_name):\n",
    "        mlflow.log_param(\"model\", model_name)\n",
    "        mlflow.log_metric(\"accuracy\", accuracy)\n",
    "        mlflow.log_metric(\"precision\", precision)\n",
    "        mlflow.log_metric(\"recall\", recall)\n",
    "        mlflow.log_metric(\"f1_score\", f1)\n",
    "        mlflow.sklearn.log_model(pipeline, model_name)\n",
    "\n",
    "    return {\n",
    "        'model': model_name,\n",
    "        'accuracy': accuracy,\n",
    "        'precision': precision,\n",
    "        'recall': recall,\n",
    "        'f1_score': f1\n",
    "    }\n"
   ]
  },
  {
   "cell_type": "code",
   "execution_count": 21,
   "id": "c41e5d74-c3b4-43e8-b2a1-f4751cbfddf1",
   "metadata": {
    "tags": []
   },
   "outputs": [
    {
     "name": "stderr",
     "output_type": "stream",
     "text": [
      "F:\\code\\installation\\Lib\\site-packages\\sklearn\\metrics\\_classification.py:1469: UndefinedMetricWarning: Precision is ill-defined and being set to 0.0 due to no predicted samples. Use `zero_division` parameter to control this behavior.\n",
      "  _warn_prf(average, modifier, msg_start, len(result))\n",
      "F:\\code\\installation\\Lib\\site-packages\\_distutils_hack\\__init__.py:33: UserWarning: Setuptools is replacing distutils.\n",
      "  warnings.warn(\"Setuptools is replacing distutils.\")\n",
      "F:\\code\\installation\\Lib\\site-packages\\sklearn\\neural_network\\_multilayer_perceptron.py:691: ConvergenceWarning: Stochastic Optimizer: Maximum iterations (200) reached and the optimization hasn't converged yet.\n",
      "  warnings.warn(\n"
     ]
    },
    {
     "name": "stdout",
     "output_type": "stream",
     "text": [
      "Fraud Data Results:\n",
      "                  model  accuracy  precision    recall  f1_score\n",
      "0  Logistic Regression  0.905701   0.000000  0.000000  0.000000\n",
      "1        Decision Tree  0.906991   0.506181  0.560351  0.531890\n",
      "2        Random Forest  0.956060   0.993515  0.537544  0.697632\n",
      "3    Gradient Boosting  0.907653   0.927536  0.022456  0.043851\n",
      "4                  MLP  0.947590   0.847039  0.542105  0.661104\n"
     ]
    }
   ],
   "source": [
    "#Train and evaluate models on fraud data\n",
    "fraud_results = []\n",
    "for model_name, model in models.items():\n",
    "    fraud_results.append(train_evaluate_model(model_name, model, fraud_X_train, fraud_X_test, fraud_y_train, fraud_y_test))\n",
    "\n",
    " # Display results\n",
    "fraud_results_df = pd.DataFrame(fraud_results)\n",
    "print(\"Fraud Data Results:\\n\", fraud_results_df)"
   ]
  },
  {
   "cell_type": "code",
   "execution_count": 24,
   "id": "962a7501-9c5d-4230-898c-fbb40da25cf0",
   "metadata": {
    "tags": []
   },
   "outputs": [
    {
     "name": "stderr",
     "output_type": "stream",
     "text": [
      "F:\\code\\installation\\Lib\\site-packages\\sklearn\\linear_model\\_logistic.py:460: ConvergenceWarning: lbfgs failed to converge (status=1):\n",
      "STOP: TOTAL NO. of ITERATIONS REACHED LIMIT.\n",
      "\n",
      "Increase the number of iterations (max_iter) or scale the data as shown in:\n",
      "    https://scikit-learn.org/stable/modules/preprocessing.html\n",
      "Please also refer to the documentation for alternative solver options:\n",
      "    https://scikit-learn.org/stable/modules/linear_model.html#logistic-regression\n",
      "  n_iter_i = _check_optimize_result(\n"
     ]
    },
    {
     "name": "stdout",
     "output_type": "stream",
     "text": [
      "+----------------------------+------------+-------------+----------+-------+\n",
      "| Model                      |   Accuracy |   Precision |   Recall |    F1 |\n",
      "+============================+============+=============+==========+=======+\n",
      "| LogisticRegression         |      0.999 |       0.659 |    0.612 | 0.635 |\n",
      "+----------------------------+------------+-------------+----------+-------+\n",
      "| DecisionTreeClassifier     |      0.999 |       0.697 |    0.776 | 0.734 |\n",
      "+----------------------------+------------+-------------+----------+-------+\n",
      "| RandomForestClassifier     |      1     |       0.962 |    0.776 | 0.859 |\n",
      "+----------------------------+------------+-------------+----------+-------+\n",
      "| GradientBoostingClassifier |      0.999 |       0.738 |    0.602 | 0.663 |\n",
      "+----------------------------+------------+-------------+----------+-------+\n",
      "| MLPClassifier              |      0.998 |       0.515 |    0.173 | 0.26  |\n",
      "+----------------------------+------------+-------------+----------+-------+\n"
     ]
    }
   ],
   "source": [
    "# Define models\n",
    "models = [\n",
    "    LogisticRegression(),\n",
    "    DecisionTreeClassifier(),\n",
    "    RandomForestClassifier(),\n",
    "    GradientBoostingClassifier(),\n",
    "    MLPClassifier(),\n",
    "    \n",
    "]\n",
    "\n",
    "# Train and evaluate models\n",
    "results = []\n",
    "for model in models:\n",
    "    with mlflow.start_run():\n",
    "        mlflow.log_param('model', model.__class__.__name__)\n",
    "        model.fit(creditcard_X_train, creditcard_y_train)\n",
    "        y_pred = model.predict(creditcard_X_test)\n",
    "        accuracy = accuracy_score(creditcard_y_test, y_pred)\n",
    "        precision = precision_score(creditcard_y_test, y_pred)\n",
    "        recall = recall_score(creditcard_y_test, y_pred)\n",
    "        f1 = f1_score(creditcard_y_test, y_pred)\n",
    "        mlflow.log_metric('accuracy', accuracy)\n",
    "        mlflow.log_metric('precision', precision)\n",
    "        mlflow.log_metric('recall', recall)\n",
    "        mlflow.log_metric('f1', f1)\n",
    "       \n",
    "    results.append([\n",
    "        model.__class__.__name__,\n",
    "        f\"{accuracy:.3f}\",\n",
    "        f\"{precision:.3f}\",\n",
    "        f\"{recall:.3f}\",\n",
    "        f\"{f1:.3f}\"\n",
    "    ])\n",
    "\n",
    "headers = [\"Model\", \"Accuracy\", \"Precision\", \"Recall\", \"F1\"]\n",
    "print(tabulate(results, headers, tablefmt=\"grid\"))\n",
    "\n",
    "   "
   ]
  },
  {
   "cell_type": "code",
   "execution_count": null,
   "id": "e322749b-6bb0-4eba-a663-7051ae373967",
   "metadata": {},
   "outputs": [],
   "source": []
  }
 ],
 "metadata": {
  "kernelspec": {
   "display_name": "Python 3 (ipykernel)",
   "language": "python",
   "name": "python3"
  },
  "language_info": {
   "codemirror_mode": {
    "name": "ipython",
    "version": 3
   },
   "file_extension": ".py",
   "mimetype": "text/x-python",
   "name": "python",
   "nbconvert_exporter": "python",
   "pygments_lexer": "ipython3",
   "version": "3.11.5"
  }
 },
 "nbformat": 4,
 "nbformat_minor": 5
}
